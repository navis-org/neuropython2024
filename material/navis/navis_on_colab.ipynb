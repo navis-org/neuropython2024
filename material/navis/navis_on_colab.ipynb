{
 "cells": [
  {
   "cell_type": "markdown",
   "metadata": {},
   "source": [
    "Using `Navis` on Google Collaboratory is super straight forward:"
   ]
  },
  {
   "cell_type": "code",
   "execution_count": null,
   "metadata": {},
   "outputs": [],
   "source": [
    "# First we need to install the navis package\n",
    "!pip install navis[all] -U"
   ]
  },
  {
   "cell_type": "code",
   "execution_count": null,
   "metadata": {},
   "outputs": [],
   "source": [
    "# Import and run some test code\n",
    "import navis\n",
    "\n",
    "nl = navis.example_neurons(3, kind='skeleton')\n",
    "nl"
   ]
  }
 ],
 "metadata": {
  "language_info": {
   "name": "python"
  }
 },
 "nbformat": 4,
 "nbformat_minor": 2
}
