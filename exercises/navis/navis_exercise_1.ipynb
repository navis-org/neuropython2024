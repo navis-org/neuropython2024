{
 "cells": [
  {
   "cell_type": "markdown",
   "id": "b340428a-66d8-4d3b-8f26-dea2fb6a4c31",
   "metadata": {
    "editable": true,
    "raw_mimetype": "",
    "tags": []
   },
   "source": [
    "![navis logo](https://github.com/navis-org/navis/raw/master/docs/_static/logo_new_banner.png)\n",
    "\n",
    "# NeuroPython Workshop 2024 - <span style=\"color:rgb(250,175,3)\">NAVis</span> Exercise 1\n",
    "\n",
    "_Author: Philipp Schlegel (University of Cambridge)_\n",
    "\n",
    "_Date: September 23, 2024_\n",
    "\n",
    "_Source: https://github.com/navis-org/neuropython2024/exercises/navis/navis_exercise_1.ipynb_\n",
    "\n",
    "In this first exercise we will introduce the basic concepts of <span style=\"color:rgb(250,175,3)\">NAVis</span>. You will learn about:\n",
    "\n",
    "1. Different neuron types \n",
    "2. Converting between neuron meshes and skeletons\n",
    "3. Neuron properties\n",
    "4. Lists of neurons \n",
    "5. Ways to plot neurons\n",
    "\n",
    "### Requirements \n",
    "\n",
    "For this exercise, you will need a full, up-to-date install of <span style=\"color:rgb(250,175,3)\">NAVis</span>:\n",
    "\n",
    "```shell \n",
    "pip install \"navis[all]\" -U\n",
    "```\n",
    "### Part I: Neuron Types & Properties\n",
    "\n",
    "<span style=\"color:rgb(250,175,3)\">NAVis</span> supports 4 different types of neuron representations:\n",
    "- `navis.MeshNeuron` = meshes\n",
    "- `navis.TreeNeuron` = skeletons \n",
    "- `navis.Dotprops` = dotprops \n",
    "- `navis.VoxelNeuron` = images\n",
    "\n",
    "For this tutorial, we will focus in skeletons and meshes as these are the types you will most likely work with.\n",
    "\n",
    "#### Skeletons"
   ]
  },
  {
   "cell_type": "code",
   "execution_count": null,
   "id": "69d9112d",
   "metadata": {},
   "outputs": [],
   "source": [
    "import navis\n",
    "\n",
    "# This should be 1.8.0 or higher\n",
    "print(navis.__version__)"
   ]
  },
  {
   "cell_type": "code",
   "execution_count": null,
   "id": "435b9ceb-fab2-4b24-8f9f-cc33f448aba9",
   "metadata": {
    "editable": true,
    "tags": []
   },
   "outputs": [],
   "source": [
    "# Load one of the example skeletons\n",
    "n = navis.example_neurons(1, kind=\"skeleton\")\n",
    "\n",
    "# Show a short summary of the skeleton\n",
    "n"
   ]
  },
  {
   "cell_type": "markdown",
   "id": "822bfa92",
   "metadata": {},
   "source": [
    "For skeletons, the underlying data is the SWC node table which you can access via the `.nodes` property:"
   ]
  },
  {
   "cell_type": "code",
   "execution_count": null,
   "id": "6f0e56f6",
   "metadata": {},
   "outputs": [],
   "source": [
    "# The nodes table is a simple pandas DataFrame\n",
    "n.nodes.head()"
   ]
  },
  {
   "cell_type": "markdown",
   "id": "4b0c716d",
   "metadata": {},
   "source": [
    "Properties such as the ones seen in the summary can be accessed similarly:"
   ]
  },
  {
   "cell_type": "code",
   "execution_count": null,
   "id": "e98727ab",
   "metadata": {},
   "outputs": [],
   "source": [
    "n.cable_length"
   ]
  },
  {
   "cell_type": "markdown",
   "id": "c27596d5",
   "metadata": {},
   "source": [
    "Try some other parameter - e.g. `n.n_leafs`!\n",
    "\n",
    "You may have noticed that our example neuron has a `units` property of `8 nanometer`. "
   ]
  },
  {
   "cell_type": "code",
   "execution_count": null,
   "id": "55c73547",
   "metadata": {},
   "outputs": [],
   "source": [
    "n.units"
   ]
  },
  {
   "cell_type": "markdown",
   "id": "56d02307",
   "metadata": {},
   "source": [
    "If you know your neurons units, it's useful to set that property because it allows us to do stuff like this:"
   ]
  },
  {
   "cell_type": "code",
   "execution_count": null,
   "id": "f0e46637",
   "metadata": {},
   "outputs": [],
   "source": [
    "n.cable_length * n.units"
   ]
  },
  {
   "cell_type": "markdown",
   "id": "28c34a29",
   "metadata": {},
   "source": [
    "Units can be set manually using a string:"
   ]
  },
  {
   "cell_type": "code",
   "execution_count": 7,
   "id": "221ab0b6",
   "metadata": {},
   "outputs": [],
   "source": [
    "n.units = \"8 nm\""
   ]
  },
  {
   "cell_type": "markdown",
   "id": "5caee7a7",
   "metadata": {},
   "source": [
    "#### Somata\n",
    "\n",
    "You've probably already seen the `.soma` property on our example neuron:"
   ]
  },
  {
   "cell_type": "code",
   "execution_count": null,
   "id": "8eb757e4",
   "metadata": {},
   "outputs": [],
   "source": [
    "n.soma"
   ]
  },
  {
   "cell_type": "markdown",
   "id": "c34dd15d",
   "metadata": {},
   "source": [
    "For skeletons, `.soma` is the ID of the node that corresponds to the neuron's soma. \n",
    "\n",
    "<span style=\"color:rgb(250,175,3)\">NAVis</span> tries its best to infer the soma from whatever data you throw at it. For example when reading SWC files, it will look for a `label` column and failing that will look for nodes with a large radius. You can also set the soma manually:"
   ]
  },
  {
   "cell_type": "code",
   "execution_count": 9,
   "id": "3755efc6",
   "metadata": {},
   "outputs": [],
   "source": [
    "n.soma = 4177"
   ]
  },
  {
   "cell_type": "markdown",
   "id": "80706176",
   "metadata": {},
   "source": [
    "The `.soma` property is used for example for plotting and a few other functions, so it's always good to check this is set correctly."
   ]
  },
  {
   "cell_type": "markdown",
   "id": "a143a8aa",
   "metadata": {},
   "source": [
    "##### Roots\n",
    "\n",
    "Skeletons are directed acyclic graphs (= trees) where each node has exactly one parent. The only exception is the neuron's \"root\", the one node that does not have a parent:"
   ]
  },
  {
   "cell_type": "code",
   "execution_count": null,
   "id": "d1f0fdcb",
   "metadata": {},
   "outputs": [],
   "source": [
    "# Like `.soma`, these are node IDs\n",
    "n.root"
   ]
  },
  {
   "cell_type": "markdown",
   "id": "f1717c2b",
   "metadata": {},
   "source": [
    "Our example neuron is fully connected and so it only has a single root. If there are any breaks in the structure, you would find multiple root nodes.\n",
    "\n",
    "Why should we care about the skeleton's root? Roots are important because they are used as points of reference.\n",
    "For example, when calculating Strahler Indices (SI) we walk from the leafs to the root and if that's not correctly set your SI won't make much sense. \n",
    "\n",
    "Currently, our neuron isn't actually rooted to its soma - let's fix that!"
   ]
  },
  {
   "cell_type": "code",
   "execution_count": null,
   "id": "a524fe8e",
   "metadata": {},
   "outputs": [],
   "source": [
    "# Reroot the skeleton at the soma\n",
    "navis.reroot_skeleton(n, n.soma, inplace=True)\n",
    "\n",
    "# Check that the new root is correct\n",
    "n.root"
   ]
  },
  {
   "cell_type": "markdown",
   "id": "8c7e7996",
   "metadata": {},
   "source": [
    "Above function call also introduced an important concept: the `inplace` parameter. If you are used to `pandas` this should look familiar!\n",
    "Many functions in <span style=\"color:rgb(250,175,3)\">NAVis</span> accept this parameter:\n",
    "\n",
    "- `inplace=False` (default): the neuron(s) are copied and those copies are modifid and returned \n",
    "- `inplace=True`: the original neurons are modified \n",
    "\n",
    "The latter is useful if you don't need to keep the originals - it saves time and memory by avoiding having to copy data. \n",
    "\n",
    "#### Meshes\n"
   ]
  },
  {
   "cell_type": "code",
   "execution_count": null,
   "id": "edc72e83",
   "metadata": {},
   "outputs": [],
   "source": [
    "# Load one of the example neuron meshes\n",
    "m = navis.example_neurons(1, kind=\"mesh\")\n",
    "\n",
    "# Show a short summary of the mesh\n",
    "m"
   ]
  },
  {
   "cell_type": "markdown",
   "id": "f70da58e",
   "metadata": {},
   "source": [
    "As you can see the summary for meshes (i.e. `MeshNeurons`) looks quite a bit different from those for skeletons (i.e. `TreeNeurons`).\n",
    "That's because in contrast to skeletons, neuron meshes don't immediately give us a sense of topology to calculate leafs, branch points, cable length \n",
    "and so on. For that, we have to skeletonize them - which we'll demo below.\n",
    "\n",
    "The basic data for meshes are vertices (as x/y/z positions in space) and faces (as vertices indices):"
   ]
  },
  {
   "cell_type": "code",
   "execution_count": null,
   "id": "fd42a8c9",
   "metadata": {},
   "outputs": [],
   "source": [
    "m.vertices"
   ]
  },
  {
   "cell_type": "code",
   "execution_count": null,
   "id": "8946e2e8",
   "metadata": {},
   "outputs": [],
   "source": [
    "m.faces"
   ]
  },
  {
   "cell_type": "markdown",
   "id": "0864c926",
   "metadata": {},
   "source": [
    "<span style=\"color:rgb(250,175,3)\">NAVis</span> tries to make it easy to move between representations. In particular the conversion _to_ skeletons is very useful\n",
    "as it allows us to analyse the neuron's topology.\n",
    "\n",
    "For `MeshNeurons` that's fairly straight forward:"
   ]
  },
  {
   "cell_type": "code",
   "execution_count": null,
   "id": "fc0596dd",
   "metadata": {},
   "outputs": [],
   "source": [
    "# Skeletonize the mesh\n",
    "sk = navis.skeletonize(m)\n",
    "sk"
   ]
  },
  {
   "cell_type": "markdown",
   "id": "ed29c36e",
   "metadata": {},
   "source": [
    "**Important**: while the conversion function try to use sensible defaults, you may still want to inspect the results carefully and make adjustements if necessary!\n",
    "\n",
    "You may also notice that some functions such as e.g. `navis.strahler_index` accept `MeshNeurons` even though they probably operate on a skeleton:"
   ]
  },
  {
   "cell_type": "code",
   "execution_count": null,
   "id": "85d908b3",
   "metadata": {},
   "outputs": [],
   "source": [
    "# Calculate the Strahler index for the mesh\n",
    "navis.strahler_index(m)\n",
    "\n",
    "# The per-vertex Strahler index is attached as a new property\n",
    "m.strahler_index"
   ]
  },
  {
   "cell_type": "markdown",
   "id": "37c6c735",
   "metadata": {},
   "source": [
    "The above works because <span style=\"color:rgb(250,175,3)\">NAVis</span> (lazily) generates a skeleton, calculates the Strahler index on it and then maps the indices\n",
    "back onto the mesh. The skeleton is then cached for future use:"
   ]
  },
  {
   "cell_type": "code",
   "execution_count": null,
   "id": "7d2b60d3",
   "metadata": {},
   "outputs": [],
   "source": [
    "# The .skeleton property is generated lazily on first access\n",
    "m.skeleton"
   ]
  },
  {
   "cell_type": "markdown",
   "id": "4c69a576",
   "metadata": {},
   "source": [
    "We won't cover this here but you can adjust the skeleton-representation manually - e.g. by using `m.skeletonize()`!\n",
    "\n",
    "### Lists of Neurons\n",
    "\n",
    "So far, we've only looked at single neurons but in reality you will likely work with a whole bunch at a time.\n",
    "For that <span style=\"color:rgb(250,175,3)\">NAVis</span> has `NeuronLists`:"
   ]
  },
  {
   "cell_type": "code",
   "execution_count": null,
   "id": "fcdd6623",
   "metadata": {},
   "outputs": [],
   "source": [
    "# Ask for multiple skeletons\n",
    "nl = navis.example_neurons(3, kind=\"skeleton\")\n",
    "\n",
    "# You can also manually construct NeuronLists from individual neurons like so:\n",
    "# nl = navis.NeuronList([n1, n2, n3])\n",
    "\n",
    "# Show a short summary of the list of skeletons\n",
    "nl"
   ]
  },
  {
   "cell_type": "markdown",
   "id": "e8bf2825",
   "metadata": {},
   "source": [
    "`NeuronLists` behave similar to numpy arrays in that we can index them like so:"
   ]
  },
  {
   "cell_type": "code",
   "execution_count": null,
   "id": "b0914afc",
   "metadata": {},
   "outputs": [],
   "source": [
    "# Get the first neuron in the list\n",
    "nl[0]"
   ]
  },
  {
   "cell_type": "code",
   "execution_count": null,
   "id": "0f92e363",
   "metadata": {},
   "outputs": [],
   "source": [
    "# Index by a slice\n",
    "nl[1:3]"
   ]
  },
  {
   "cell_type": "code",
   "execution_count": null,
   "id": "8bfd71ab",
   "metadata": {},
   "outputs": [],
   "source": [
    "# Index by a boolean array\n",
    "nl[nl.cable_length > 300_000]"
   ]
  },
  {
   "cell_type": "code",
   "execution_count": null,
   "id": "fd2bb544",
   "metadata": {},
   "outputs": [],
   "source": [
    "# Iterate over the neurons in the list\n",
    "for neuron in nl:\n",
    "    print(neuron.id)"
   ]
  },
  {
   "cell_type": "markdown",
   "id": "ab8fe3db",
   "metadata": {},
   "source": [
    "In addition to the list/array-like ways to index into the `NeuronList`, you can also index by ID similar to `.loc` in `pandas`:"
   ]
  },
  {
   "cell_type": "code",
   "execution_count": null,
   "id": "5628615e",
   "metadata": {},
   "outputs": [],
   "source": [
    "# Grab a single neuron by ID\n",
    "nl.idx[1734350908]"
   ]
  },
  {
   "cell_type": "code",
   "execution_count": null,
   "id": "946635d6",
   "metadata": {},
   "outputs": [],
   "source": [
    "# Grab multiple neurons by ID\n",
    "nl.idx[[1734350908, 722817260]]"
   ]
  },
  {
   "cell_type": "markdown",
   "id": "7b20ad94",
   "metadata": {},
   "source": [
    "So `NeuronLists` make it fairly easy to organize your neurons but what else are they good for?\n",
    "\n",
    "They also make it easy to access your neurons properties:"
   ]
  },
  {
   "cell_type": "code",
   "execution_count": null,
   "id": "0c4e3b88",
   "metadata": {},
   "outputs": [],
   "source": [
    "# Get the number of nodes in each neuron\n",
    "nl.n_nodes"
   ]
  },
  {
   "cell_type": "markdown",
   "id": "d19c706d",
   "metadata": {},
   "source": [
    "This access is generic and should work for any neuron property:"
   ]
  },
  {
   "cell_type": "code",
   "execution_count": null,
   "id": "bc1c9bc3",
   "metadata": {},
   "outputs": [],
   "source": [
    "nl.id"
   ]
  },
  {
   "cell_type": "markdown",
   "id": "1cd32228",
   "metadata": {},
   "source": [
    "We can also use the `NeuronList` to add/modify neuron properties:"
   ]
  },
  {
   "cell_type": "code",
   "execution_count": null,
   "id": "5c687e1f",
   "metadata": {},
   "outputs": [],
   "source": [
    "# Set a \"my_property\" attribute on the neurons\n",
    "nl.set_neuron_attributes([\"a\", \"b\", \"c\"], name=\"my_property\")\n",
    "\n",
    "nl[0].my_property"
   ]
  },
  {
   "cell_type": "markdown",
   "id": "b7825e93",
   "metadata": {},
   "source": [
    "See also `NeuronList.add_meta_data()` for adding a whole bunch of properties at once.\n",
    "\n",
    "### Part II: Plotting\n",
    "\n",
    "<span style=\"color:rgb(250,175,3)\">NAVis</span> has various functions for plotting neurons:\n",
    "\n",
    "- `navis.plot3d`\n",
    "- `navis.plot2d` \n",
    "- `navis.plot1d` \n",
    "- `navis.plot_flat`\n",
    "\n",
    "Here, we will focus on `plot3d` and `plot2d` but check out the online tutorials to learn about the rest!\n",
    "\n",
    "\n",
    "#### Plot 2D\n",
    "\n",
    "`navis.plot2d` uses `matplotlib` to visualize neurons. While `matplotlib` has 3d axes which allow you to plot\n",
    "objects at oblique angles, its capabilities to render multiple objects correctly layered are limited. It's \n",
    "also fairly slow for large scenes which means it's hard to use interactively. \n",
    "\n",
    "On the plus side, we get very nice, clean-looking figures and there are tons of ways of customizing them."
   ]
  },
  {
   "cell_type": "code",
   "execution_count": null,
   "id": "3ecd6959",
   "metadata": {},
   "outputs": [],
   "source": [
    "# Plot a single neuron\n",
    "fig, ax = navis.plot2d(\n",
    "    nl[0],\n",
    "    color=\"k\",  # set the color\n",
    "    radius=True,  # use the radius column to set the width of the lines\n",
    "    view=(\"x\", \"-y\"),  # set the view\n",
    "    method=\"2d\",  # this determines whether we use 2d or 3d matplotlib axes\n",
    ")"
   ]
  },
  {
   "cell_type": "code",
   "execution_count": null,
   "id": "0de96b3b-1de0-4e40-b3ae-099ba3471444",
   "metadata": {
    "editable": true,
    "tags": []
   },
   "outputs": [],
   "source": [
    "# Plot a bunch of neurons\n",
    "fig, ax = navis.plot2d(\n",
    "    nl,  # pass a list of neurons\n",
    "    palette=\"tab10\",\n",
    "    radius=True,\n",
    "    view=(\"x\", \"-y\"),\n",
    "    method=\"2d\",\n",
    ")"
   ]
  },
  {
   "cell_type": "markdown",
   "id": "90f648f1",
   "metadata": {},
   "source": [
    "You may have noticed that the skeletons look fairly plastic - that's because by default\n",
    "<span style=\"color:rgb(250,175,3)\">NAVis</span> will use the radius (if present). That \n",
    "typically looks better at the cost of slower rendering. To switch off radii:"
   ]
  },
  {
   "cell_type": "code",
   "execution_count": null,
   "id": "42bee4e9",
   "metadata": {},
   "outputs": [],
   "source": [
    "# Plot a bunch of neurons\n",
    "fig, ax = navis.plot2d(\n",
    "    nl,\n",
    "    palette=\"tab10\",\n",
    "    radius=False,  # do not use the radius\n",
    "    linewidth=.5,  # set the width of the lines\n",
    "    view=(\"x\", \"-y\"),\n",
    "    method=\"2d\",\n",
    ")"
   ]
  },
  {
   "cell_type": "markdown",
   "id": "4fcd9b91",
   "metadata": {},
   "source": [
    "You can always change the initial camera position using the `view` parameter. If you use 3D axes via `method=\"3d\"`,\n",
    "you can also rotate the camera:"
   ]
  },
  {
   "cell_type": "code",
   "execution_count": null,
   "id": "1293d82b",
   "metadata": {},
   "outputs": [],
   "source": [
    "# Plot a bunch of neurons\n",
    "fig, ax = navis.plot2d(\n",
    "    nl,\n",
    "    palette=\"tab10\",\n",
    "    radius=False,\n",
    "    linewidth=1,\n",
    "    view=(\"x\", \"-y\"),\n",
    "    method=\"3d\",  # set method to 3d - try out `3d_complex`!\n",
    "    non_view_axes3d=True  # show the non-view axes\n",
    ")\n",
    "\n",
    "# Move the camera around\n",
    "ax.elev = -20\n",
    "ax.azim = 45\n",
    "ax.roll = 180"
   ]
  },
  {
   "cell_type": "markdown",
   "id": "6534df2b",
   "metadata": {},
   "source": [
    "#### Plot 3D \n",
    "\n",
    "Interactive 3D plots can be generated with `navis.plot3d`. Depending on what's installed on your system and whether you are in a Jupyter environment or in e.g. a terminal, <span style=\"color:rgb(250,175,3)\">NAVis</span> will use different backends:\n",
    "\n",
    "- `plotly` is the default backend for Jupyter \n",
    "- `octarine3d` will be used by default in the terminal or scripts \n",
    "- `vispy` is the fallback for `octarine` "
   ]
  },
  {
   "cell_type": "code",
   "execution_count": null,
   "id": "7108ae37",
   "metadata": {},
   "outputs": [],
   "source": [
    "# This should produce a plotly plot\n",
    "fig = navis.plot3d(nl, palette='tab10')"
   ]
  },
  {
   "cell_type": "code",
   "execution_count": null,
   "id": "a991a12a",
   "metadata": {},
   "outputs": [],
   "source": [
    "# This should produce an octarine plot (if that backend is installed)\n",
    "# Importantly: this will NOT work in Google Colab\n",
    "viewer = navis.plot3d(nl, palette='tab10', backend='octarine')"
   ]
  },
  {
   "cell_type": "markdown",
   "id": "d91d2ca0",
   "metadata": {},
   "source": [
    "Unlike `plotly` figures which are static once generated, `octarine` (and `vispy`) viewers can be manipulated further.\n",
    "\n",
    "Run these cells one-by-one and look at the viewer above:"
   ]
  },
  {
   "cell_type": "code",
   "execution_count": 34,
   "id": "2806bf93",
   "metadata": {},
   "outputs": [],
   "source": [
    "# Set all neurons to red\n",
    "viewer.set_colors('r')"
   ]
  },
  {
   "cell_type": "code",
   "execution_count": 35,
   "id": "58e98ed1",
   "metadata": {},
   "outputs": [],
   "source": [
    "# Clear the viewer\n",
    "viewer.clear()"
   ]
  },
  {
   "cell_type": "code",
   "execution_count": 36,
   "id": "cb3c7d12",
   "metadata": {},
   "outputs": [],
   "source": [
    "# Add a single neuron\n",
    "viewer.add(nl[0])"
   ]
  },
  {
   "cell_type": "code",
   "execution_count": 37,
   "id": "b57e27b2",
   "metadata": {},
   "outputs": [],
   "source": [
    "# Change camera position\n",
    "viewer.set_view(\"XY\")  # this also accepts more complex, custom views (see docstring)"
   ]
  },
  {
   "cell_type": "code",
   "execution_count": null,
   "id": "ffbf4c06",
   "metadata": {},
   "outputs": [],
   "source": [
    "# Take a screenshot and display using matplotlib\n",
    "# Note: this may fail with a shader-related error if you simply clicked \"Run All\" in a Jupyter notebook\n",
    "# I think that's because we need to give it a split second to initialize (compile shaders, render a first frame, etc.)\n",
    "# If you run this cell by itself, it should work fine\n",
    "im = viewer.screenshot(filename=None)\n",
    "im.shape"
   ]
  },
  {
   "cell_type": "code",
   "execution_count": null,
   "id": "e9791a68",
   "metadata": {},
   "outputs": [],
   "source": [
    "import matplotlib.pyplot as plt\n",
    "\n",
    "plt.imshow(im)"
   ]
  }
 ],
 "metadata": {
  "kernelspec": {
   "display_name": "Python 3 (ipykernel)",
   "language": "python",
   "name": "python3"
  },
  "language_info": {
   "codemirror_mode": {
    "name": "ipython",
    "version": 3
   },
   "file_extension": ".py",
   "mimetype": "text/x-python",
   "name": "python",
   "nbconvert_exporter": "python",
   "pygments_lexer": "ipython3",
   "version": "3.11.8"
  },
  "rise": {
   "footer": "<p>Philipp</p>",
   "header": "<h1>Hello</h1>",
   "show_buttons_on_startup": false,
   "slideNumber": false,
   "transition": "zoom"
  }
 },
 "nbformat": 4,
 "nbformat_minor": 5
}
