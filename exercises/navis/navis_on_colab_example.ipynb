{
 "cells": [
  {
   "cell_type": "markdown",
   "metadata": {},
   "source": [
    "Using `Navis` on Google Collaboratory is super straight forward:"
   ]
  },
  {
   "cell_type": "code",
   "execution_count": null,
   "metadata": {},
   "outputs": [],
   "source": [
    "# First we need to install the navis package\n",
    "!pip install navis[all] -U"
   ]
  },
  {
   "cell_type": "markdown",
   "metadata": {},
   "source": [
    "Now try running this cell to make sure `Navis` has installed correctly:"
   ]
  },
  {
   "cell_type": "code",
   "execution_count": null,
   "metadata": {},
   "outputs": [],
   "source": [
    "# Import and run some test code\n",
    "import navis\n",
    "\n",
    "nl = navis.example_neurons(3, kind='skeleton')\n",
    "nl"
   ]
  },
  {
   "cell_type": "code",
   "execution_count": null,
   "metadata": {},
   "outputs": [],
   "source": [
    "# This should render as plotly 3d plot\n",
    "navis.plot3d(nl)"
   ]
  },
  {
   "cell_type": "code",
   "execution_count": null,
   "metadata": {},
   "outputs": [],
   "source": [
    "from IPython.display import display\n",
    "\n",
    "import navis\n",
    "import seaborn as sns\n",
    "nl = navis.example_neurons(n=3)\n",
    "\n",
    "# Some mock labels\n",
    "labels = [\"typeA\", \"typeA\", \"typeB\"]\n",
    "\n",
    "# Generate a color for each unique label\n",
    "cmap = dict(zip(set(labels), sns.color_palette('tab20', len(set(labels)))))\n",
    "\n",
    "# Map back onto neurons\n",
    "colors = [cmap[l] for l in labels]\n",
    "\n",
    "# Plot\n",
    "v = navis.plot3d(nl, color=colors, connectors=True, backend='vispy', cn_size=None)\n",
    "#v.show()"
   ]
  },
  {
   "cell_type": "code",
   "execution_count": null,
   "metadata": {},
   "outputs": [],
   "source": [
    "from importlib import reload\n",
    "reload(navis.plotting.dd)\n",
    "reload(navis.plotting)\n",
    "reload(navis)\n",
    "\n",
    "\n",
    "fig, ax = navis.plot2d(nl, color=colors, method='3d', view=('x', '-z'), radius=True)"
   ]
  }
 ],
 "metadata": {
  "kernelspec": {
   "display_name": "Python 3",
   "language": "python",
   "name": "python3"
  },
  "language_info": {
   "codemirror_mode": {
    "name": "ipython",
    "version": 3
   },
   "file_extension": ".py",
   "mimetype": "text/x-python",
   "name": "python",
   "nbconvert_exporter": "python",
   "pygments_lexer": "ipython3",
   "version": "3.11.8"
  }
 },
 "nbformat": 4,
 "nbformat_minor": 2
}
